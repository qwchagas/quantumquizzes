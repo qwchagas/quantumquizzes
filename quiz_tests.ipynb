{
 "cells": [
  {
   "cell_type": "code",
   "execution_count": 1,
   "id": "b49857ac",
   "metadata": {},
   "outputs": [
    {
     "ename": "IndentationError",
     "evalue": "unexpected indent (2350715186.py, line 2)",
     "output_type": "error",
     "traceback": [
      "\u001b[0;36m  File \u001b[0;32m\"/var/folders/lq/83jtq5gd173__9cv4bh8v10r0000gq/T/ipykernel_83149/2350715186.py\"\u001b[0;36m, line \u001b[0;32m2\u001b[0m\n\u001b[0;31m    from jupytercards import display_flashcards\u001b[0m\n\u001b[0m    ^\u001b[0m\n\u001b[0;31mIndentationError\u001b[0m\u001b[0;31m:\u001b[0m unexpected indent\n"
     ]
    }
   ],
   "source": [
    " from jupyterquiz import display_quiz\n",
    "from jupytercards import display_flashcards"
   ]
  },
  {
   "cell_type": "code",
   "execution_count": null,
   "id": "afe6dd79",
   "metadata": {},
   "outputs": [],
   "source": [
    "display_quiz('groverquestion.json')"
   ]
  },
  {
   "cell_type": "code",
   "execution_count": null,
   "id": "aa993898",
   "metadata": {},
   "outputs": [],
   "source": [
    "display_flashcards('grovercard.json')"
   ]
  },
  {
   "cell_type": "code",
   "execution_count": null,
   "id": "8d764f80",
   "metadata": {},
   "outputs": [],
   "source": []
  }
 ],
 "metadata": {
  "kernelspec": {
   "display_name": "Python 3 (ipykernel)",
   "language": "python",
   "name": "python3"
  },
  "language_info": {
   "codemirror_mode": {
    "name": "ipython",
    "version": 3
   },
   "file_extension": ".py",
   "mimetype": "text/x-python",
   "name": "python",
   "nbconvert_exporter": "python",
   "pygments_lexer": "ipython3",
   "version": "3.9.8"
  }
 },
 "nbformat": 4,
 "nbformat_minor": 5
}
